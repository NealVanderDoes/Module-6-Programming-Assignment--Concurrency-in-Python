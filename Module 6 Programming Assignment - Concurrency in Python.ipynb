{
 "cells": [
  {
   "cell_type": "code",
   "execution_count": null,
   "id": "5aa3d6be-1bd2-4efc-abdd-0db4ad166cc7",
   "metadata": {},
   "outputs": [],
   "source": [
    "# 13.1\n",
    "# Imports \n",
    "import time\n",
    "import multiprocessing as mp\n",
    "import random\n",
    "from datetime import date\n",
    "\n",
    "\n",
    "# Gets today's date and formats it\n",
    "today = date.today() \n",
    "date_fmt = r\"%Y-%m-%d\" \n",
    "\n",
    "# Opens text file and writes the date as a string\n",
    "with open(\"today.txt\", \"wt\") as file:\n",
    "    file.write(today.strftime(date_fmt))\n",
    "\n",
    "\n",
    "# 13.2\n",
    "# Opens the file and reads its contents to a variable\n",
    "with open(\"today.txt\", \"rt\") as file:\n",
    "    todays_date = file.read()\n",
    "\n",
    "\n",
    "# 13.3\n",
    "# # Formats the date then prints it \n",
    "parse = r\"%Y-%m-%d\" \n",
    "print(time.strptime(todays_date, parse)) \n",
    "\n",
    "\n",
    "# 15.1\n",
    "def current_time():\n",
    "    \"\"\"\n",
    "    Function gets the current local time, formats it, and prints it.\n",
    "    \"\"\"\n",
    "    current_time = time.localtime()\n",
    "    time_fmt = \"%I:%M:%S%p\"\n",
    "\n",
    "    print(f\"The time is:\", time.strftime(time_fmt, current_time))\n",
    "\n",
    "\n",
    "if __name__ == \"__main__\": # Required, without it a RuntimeError occurs.\n",
    "    \"\"\"\n",
    "    Creates 3 separate processes, waits a random amount of time \n",
    "    between 0 and 1 seconds between each process, then prints the current time (and stuff from 13.3).\n",
    "    \"\"\"\n",
    "    for num in range(3):\n",
    "        time.sleep(random.random()) # Forces a wait time between 0 and 1 seconds\n",
    "\n",
    "        p = mp.Process(target=current_time) # The multiprocesses go through the entire file each time so they reprint from 13.3 as well. \n",
    "        p.start()\n"
   ]
  }
 ],
 "metadata": {
  "kernelspec": {
   "display_name": "Python 3 (ipykernel)",
   "language": "python",
   "name": "python3"
  },
  "language_info": {
   "codemirror_mode": {
    "name": "ipython",
    "version": 3
   },
   "file_extension": ".py",
   "mimetype": "text/x-python",
   "name": "python",
   "nbconvert_exporter": "python",
   "pygments_lexer": "ipython3",
   "version": "3.12.4"
  }
 },
 "nbformat": 4,
 "nbformat_minor": 5
}
